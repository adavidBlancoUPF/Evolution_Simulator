{
 "cells": [
  {
   "cell_type": "markdown",
   "metadata": {},
   "source": [
    "# Simulador Selección Natural\n",
    "\n",
    "## Descripción\n",
    "\n",
    "Este código simula los procesos evolutivos que podrían ocurrir en una población de mariposas debido a las presiones para camuflarse de diferentes depredadores como búhos, lagartos y pájaros. Seremos testigos acerca de como el color de sus alas tenderán a cambiar de blancas a negras en caso de que el color negro las ayude a pasar más inadvertidas a ojos de sus depredadores (o viceversa, de negras a blancas en caso de que específiquemos que el color blanco las ayuda a camuflarse de sus depredadores).\n",
    "\n",
    "Comenzaremos con una población compuesta de un cierto número de mariposas con un color específico. \n",
    "\n",
    "Las mariposas pueden ser:\n",
    "<ul>\n",
    "<li>Blancas</li>\n",
    "\n",
    "<li>Blancas-Grises</li>\n",
    "\n",
    "<li>Grises-Negras</li>\n",
    "\n",
    "<li>Negras</li>\n",
    "</ul>\n",
    "¿Qué es lo que determina el color de las alas de una mariposa? Pues sus genes. En concreto uno. A este gen le llamaremos el <b>gen optix</b>. \n",
    "\n",
    "Este gen puede adoptar distintos valores. \n",
    "<ul>\n",
    "<li>El gen optix vale <b>0</b>: La mariposa tendrá alas negras</li>\n",
    "\n",
    "<li>El gen optix vale <b>1</b>: La mariposa tendrá alas grises-negras</li>\n",
    "\n",
    "<li>El gen optix vale <b>2</b>: La mariposa tendrá alas blancas-grises</li>\n",
    "\n",
    "<li>El gen optix vale <b>3</b>: La mariposa tendrá alas blancas</li>\n",
    "</ul>\n",
    "En función del color de sus alas, una mariposa tendrá más o menos probabilidades de sobrevivir antes de tener descendencia. Supongamos que las alas de color blanco hacen a una mariposa más fácil de ser detectada por los depredadores de nuestra simulación. Por otro lado, un color más oscuro las ayuda a camuflarse mejor. Con esto en mente podemos asignar probabilidades de supervivencia en función del color. \n",
    "\n",
    "Un ejemplo que reflejase nuestra previa intuición sería el siguiente:\n",
    "<ul>\n",
    "<li>Las mariposas <b>blancas</b> tienen asignado un <b>20%</b> de posibilidades de sobrevivir antes de dejar descendencia.</li>\n",
    "\n",
    "<li>Las mariposas <b>blancas-grises</b> tienen asignado un <b>40%</b> de posibilidades de sobrevivir antes de dejar descendencia.</li>\n",
    "\n",
    "<li>Las mariposas <b>grises-negras</b> tienen asignado un <b>60%</b> de posibilidades de sobrevivir antes de dejar descendencia.</li>\n",
    "\n",
    "<li>Las mariposas <b>negras</b> tienen asignado un <b>80%</b> de posibilidades de sobrevivir antes de dejar descendencia. </li>\n",
    "</ul>\n",
    "\n",
    "Finalmente, si una mariposa logra sobrevivir el suficiente tiempo como para tener descendencia entonces, esa mariposa en nuestra simulación tendrá descendencia. Asignaremos, por defecto, que cada mariposa que logre sobrevivir tendrá 4 hijas.\n",
    "\n",
    "Pero, ¿de qué color serán las alas de las hijas de la mariposa? Las hijas herederán, por norma general, los genes de la madre. Es decir, si tus padres son rubios, es muy probable que tú también lo seas. De la misma manera, una mariposa blanca tenderá a tener una descendencia blanca (habrán heredado el gen optix con la variación número <b>3</b>) y una mariposa negra descendencia negra (habrán heredado el gen optix con la variación número <b>0</b>). \n",
    "\n",
    "Sin embargo, de tanto en tanto aparece una oveja negra. Pueden darse mutaciones que alteren, por ejemplo, el gen que regula el color de nuestras mariposas. De tal manera, a pesar de que su madre sea una mariposa blanca, podría existir alguna posibilidad, aunque pequeña, de que alguna de sus hijas muestre un color de alas negro o algo más oscuro que el de la madre. \n",
    "\n",
    "Asignaremos, por defecto, dos posibles tipos de mutaciones con sus respectivas probabilidades de ocurrencia:\n",
    "\n",
    "<ul>\n",
    "<li>Mutación pequeña: el gen da un salto de valor <b>1</b>. Por ejemplo, una mariposa blanca (gen optix con valor <b>3</b>) tiene una hija blanca-gris (gen optix con valor <b>2</b>). Las mutaciones pequeñas tendrán, por defecto, un <b>15%</b> de probabilidad de ocurrir.</li>\n",
    "<li>Mutación grande: el gen da un salto de valor 2. Por ejemplo, una mariposa blanca (gen optix con valor <b>3</b>) tiene una hija gris-negra (gen optix con valor <b>2</b>). Las mutaciones grandes tendrán, por defecto un <b>5%</b> de probabilidad de ocurrir. </li>\n",
    "</ul>\n",
    "\n",
    "\n",
    "\n",
    "## Proceso: \n",
    "\n",
    "En la primera generación tendremos una población inicial de, por defecto, 20 mariposas con un valor del gen optix igual a 3. Es decir, la simulación comenzará con una población de 20 mariposas blancas. \n",
    "\n",
    "Sin embargo, pronto aparecerán los depredadores. Utilizando algoritmos de generación de números pseudoaleatorios, nuestra simulación decidirá de manera \"aleatoria\" que mariposas de nuestra simulación sobreviven y cuales han ido a parar al estomago de un depredador antes de dejar descendencia.\n",
    "\n",
    "Aquellas mariposas que hayan sobrevivido tendrán, cada una, por defecto 4 hijas. Utilizando el mismo algoritmo de generación de números pseudoaleatorios anterior, nuestra simulación decidirá si alguna de esas 4 hijas sufrirá algún tipo de mutación en el gen optix y, por lo tanto, su color se distanciará del color de su madre. \n",
    "\n",
    "Por último, en esta nueva generación de mariposas que habrá surgido es posible que encontremos la aparición de algunas mariposas con colores diferentes. Si volvemos a correr la simulación, esta nueva generación se convertirá en la nueva \"población inicial\" y se repetirá de nuevo el proceso. Algunas morirán, otras tendrán descendencia y se convertirán en la nueva población inicial de una siguiente simulación.\n",
    "\n",
    "El factor más importante a observar de este proceso son los siguientes hechos:\n",
    "\n",
    "<ul>\n",
    "<li>Si asignamos una probabilidad mayor de sobrevivir a las mariposas negras que a las blancas, al cabo de un cierto número de generaciones seremos testigos de como el color de nuestra población (que había comenzado siendo de color blanca, por defecto) ha cambiado a negro.</li>\n",
    "<li>Si, por el contrario, asignamos una probabilidad mayor de sobrevivir a las mariposas blancas, veremos como estas tenderán a mantenerse en su color inicial y resistirán al cambio a lo largo de las generaciones. </li>\n",
    "<li>Si asignamos una probabilidad por igual de sobrevivir a las mariposas independentiemente del color de sus alas, veremos que la población de mariposas tenderá a concentrarse en los colores intermedios (gris-negro y blanco-gris).</li>\n",
    "</ul>\n",
    "\n",
    "## Primer Paso: Inicialización de Variables\n",
    "\n",
    "En la siguiente celda, podrás inicializar las probabilidades de supervivencia de cada mariposa en función del color de sus alas. Sustituye el valor que aparece a la derecha del símbolo '=' para cada tipo de probabilidad (e.g. white_butterfly_death_prob = 0.2, significa que la probabilidad de muerte de las mariposas blancas es del 20%. Si deseas cambiarla a 50% tendrás que cambiar el 0.2 por un 0.5).\n",
    "\n",
    "Es muy importante que, tanto si has cambiado el valor de las variables o no, ejecutes la celda. Lo mismo para el resto de celdas. \n",
    "\n"
   ]
  },
  {
   "cell_type": "code",
   "execution_count": 1,
   "metadata": {},
   "outputs": [],
   "source": [
    "import numpy as np\n",
    "import math \n",
    "import random\n",
    "\n",
    "#Probabilidades de sobrevivir de cada tipo de mariposa (0.8 es 80%, 0.6 es 60% etc...):\n",
    "white_butterfly_death_prob = 0.2\n",
    "white_grey_butterfly_death_prob = 0.4\n",
    "grey_black_butterfly_death_prob = 0.6\n",
    "black_butterfly_death_prob = 0.8\n"
   ]
  },
  {
   "cell_type": "markdown",
   "metadata": {},
   "source": [
    "En la siguiente celda inicializaremos el número de mariposas con el que comenzará la simulación (<b>number_of_individuals</b>), el valor del gen inicial con el que todas estas mariposas comenzarán (<b>gene_value</b>. Recuerda, 3 es blanco, 2 es blanco-gris, 1 es gris-negro y 0 es negro) y el número de hijas que tendrá cada mariposa superviviente (<b>offspring_number</b>), "
   ]
  },
  {
   "cell_type": "code",
   "execution_count": 2,
   "metadata": {},
   "outputs": [],
   "source": [
    "#Número de mariposas que conformarán la población inicual\n",
    "number_of_individuals = 20\n",
    "#Valor inicial del gen optix que regula el color de las mariposas de la población inicial: 3 blanco, 2 blanco-gris, 1 gris-negro, 0 negro.\n",
    "gene_value = 3\n",
    "#Número de hijas que tendrá cada mariposa superviviente\n",
    "offspring_number = 4\n"
   ]
  },
  {
   "cell_type": "markdown",
   "metadata": {},
   "source": [
    "En la siguiente celda inicializaremos la probabilidad de que se dé una mutación pequeña o una mutación grande en la descendencia de una mariposa particular"
   ]
  },
  {
   "cell_type": "code",
   "execution_count": 3,
   "metadata": {},
   "outputs": [],
   "source": [
    "#Probabilidad de que se dé una mutación pequeña (de un salto)\n",
    "small_gene_mutation = 0.2\n",
    "#Probabilidad de que se dé una mutación grande (de dos saltos)\n",
    "big_gene_mutation = 0.05\n"
   ]
  },
  {
   "cell_type": "markdown",
   "metadata": {},
   "source": [
    "Máximo número de mariposas que mostraremos por pantalla. Por defecto está en 20. A veces la población de mariposas puede no parar de crecer y superar los miles de individuos. Al limitar el número de mariposas a 20, mostraremos unas 20 mariposas escogidas al azar de la población para dar una idea acerca de las tendencias que puedan darse en el color de sus alas. "
   ]
  },
  {
   "cell_type": "code",
   "execution_count": 4,
   "metadata": {},
   "outputs": [],
   "source": [
    "#Máximo número de mariposas que mostraremos por pantalla\n",
    "max_number_print = 20"
   ]
  },
  {
   "cell_type": "markdown",
   "metadata": {},
   "source": [
    "Si ejecutamos la celda de abajo deberíamos ser testigos de como aparecen unos números debajo de la celda.\n",
    "\n",
    "Si has mantenido todos los valores por defecto debería aparecerte algo así:\n",
    "\n",
    "[3 3 3 3 3 3 3 3 3 3 3 3 3 3 3 3 3 3 3 3]\n",
    "\n",
    "Cada número representa el gen de una mariposa de la población. Si cuentas los números verás que son 20 en total. Esto significa que tenemos una población de 20 mariposas y todas ellas con el gen en valor 3. En otras palabras, significa que nuestra población, en este momento, está conformada por 20 mariposas blancas. \n",
    "\n",
    "[<b>NOTA</b>: No olvides haber ejecutado previamente todas las celdas anteriores]"
   ]
  },
  {
   "cell_type": "code",
   "execution_count": 5,
   "metadata": {},
   "outputs": [
    {
     "name": "stdout",
     "output_type": "stream",
     "text": [
      "[3 3 3 3 3 3 3 3 3 3 3 3 3 3 3 3 3 3 3 3]\n"
     ]
    }
   ],
   "source": [
    "#Creamos un array con las probabilidades de sobrevivir de las mariposas\n",
    "gen_death_probs = np.array([black_butterfly_death_prob, grey_black_butterfly_death_prob, white_grey_butterfly_death_prob, white_grey_butterfly_death_prob])\n",
    "#Creamos un array con las probabilidades de que la descendencia de una mariposa sufra mutaciones\n",
    "gen_mutation_offspring_probs = np.array([1-small_gene_mutation,1-big_gene_mutation])\n",
    "\n",
    "#Inicializamos el contador de Generación a 1. \n",
    "generation = 1\n",
    "\n",
    "#Inicializamos nuestra primera población de mariposas en un array. Cada mariposa está representada por el número de su gen.\n",
    "population = np.empty(number_of_individuals)\n",
    "population.fill(gene_value)\n",
    "population = population.astype(int)\n",
    "\n",
    "#Printamos por pantalla a nuestra primera población \n",
    "print(population)"
   ]
  },
  {
   "cell_type": "markdown",
   "metadata": {},
   "source": [
    "## Segundo paso: Comienza la Simulación!\n",
    "\n",
    "Si ejecutamos la celda que verás a continuación habrás dado comienzo a la simulación de nuestras queridas mariposas.\n",
    "\n",
    "Debajo de la celda encontrarás que habrá aparecido el siguiente mensaje después de ejecutarla:\n",
    "\n",
    "<b>Generation X:</b> (X es el número de la generación en la que nos encontramos, si es la primera vez que ejecutas la celda estarás viendo el ciclo de vida de la generación <b>1</b>)\n",
    "<b>This is the actual population:</b> (debajo de este título encontrarás la población inicial de la simulación en ese particular momento)\n",
    "<b> These are the individuals that died (-1 means death):</b> (debajo de este título, encontrarás cuantos individuos de la población inicial han muerto, verás que en vez de aparecer el valor de su gen optix (0,1,2 o 3), aparecerá el valor -1, que significa que ha sido devorado).\n",
    "<b>This is the offspring:</b> (debajo de este título veremos a los hijos resultantes de los supervivientes de esta generación. Estos mismos hijos serán los que conformarán la población inicial en caso de que vuelvas a ejecutar la celda)\n",
    "\n",
    "En caso de que hayas utilizado los valores por defecto, fíjate como al pasar las generaciones, cada vez irán apareciendo más y más mariposas negras (con valor 0)\n",
    "\n"
   ]
  },
  {
   "cell_type": "code",
   "execution_count": 6,
   "metadata": {},
   "outputs": [
    {
     "name": "stdout",
     "output_type": "stream",
     "text": [
      "Generation 1\n",
      "This is the actual population: \n",
      "[3 3 3 3 3 3 3 3 3 3 3 3 3 3 3 3 3 3 3 3]\n",
      "These are the individuals that died (-1 means death):\n",
      "[ 3 -1  3  3  3  3 -1  3 -1  3  3 -1 -1 -1 -1 -1 -1 -1  3  3]\n",
      "This is the offspring: \n",
      "[3 3 3 3 2 2 3 3 3 3 3 1 3 3 3 3 2 3 3 1]\n"
     ]
    }
   ],
   "source": [
    "#Litamos el número de población a 500 individuos por motivos de no sobrecargar la máquina\n",
    "max_number_population = 500\n",
    "if len(population) > max_number_population:\n",
    "    population_aux = np.random.choice(population, max_number_population, replace=False)\n",
    "    population = population_aux.copy()\n",
    "\n",
    "# Population DEATHS\n",
    "death_counter = 0\n",
    "\n",
    "#Status of the generation\n",
    "print(\"Generation {}\".format(generation))\n",
    "generation = generation + 1\n",
    "\n",
    "final_population = np.array([])\n",
    "print(\"This is the actual population: \")\n",
    "#print a maximum of 20 individuals\n",
    "if len(population) < max_number_print:\n",
    "    print(population)\n",
    "else:\n",
    "    population_aux = np.random.choice(population, max_number_print, replace=False)\n",
    "    print(population_aux)\n",
    "\n",
    "##print(population)\n",
    "#random.seed(1)\n",
    "for individual in population:\n",
    "    if random.random() > gen_death_probs[individual]:\n",
    "        final_population = np.append(final_population, -1)\n",
    "        death_counter = death_counter + 1\n",
    "    else:\n",
    "        final_population = np.append(final_population, individual)\n",
    "    \n",
    "final_population = final_population.astype(int)\n",
    "print(\"These are the individuals that died (-1 means death):\")\n",
    "\n",
    "#print a maximum of 20 individuals\n",
    "if len(final_population) < max_number_print:\n",
    "    print(final_population)\n",
    "else:\n",
    "    population_aux = np.random.choice(final_population, max_number_print, replace=False)\n",
    "    print(population_aux)\n",
    "\n",
    "#Population Offspring\n",
    "offspring = np.array([])\n",
    "#random.seed(2)\n",
    "for individual in final_population:  \n",
    "    if individual != -1:\n",
    "        for j in range(offspring_number):\n",
    "            random_number = random.random()\n",
    "            if random_number < gen_mutation_offspring_probs[0]:\n",
    "                offspring = np.append(offspring, individual)\n",
    "            else:\n",
    "                if random_number < gen_mutation_offspring_probs[1]:\n",
    "                    mutation = 1\n",
    "                else:\n",
    "                    mutation = 2\n",
    "                if individual == (len(gen_death_probs)-1):\n",
    "                    offspring = np.append(offspring, individual-mutation)\n",
    "                elif individual == 0:\n",
    "                    offspring = np.append(offspring, individual+mutation)\n",
    "                \n",
    "                elif random.random() < 0.5:\n",
    "                    if (individual - mutation) < 0:\n",
    "                        mutation = mutation - 1\n",
    "                    offspring = np.append(offspring, individual-mutation)\n",
    "                else:\n",
    "                    if (individual + mutation) > (len(gen_death_probs)-1):\n",
    "                        mutation = mutation - 1\n",
    "                    offspring = np.append(offspring, individual+mutation)\n",
    "                \n",
    "          \n",
    "print(\"This is the offspring: \")\n",
    "offspring = offspring.astype(int)\n",
    "#print a maximum of 20 individuals\n",
    "if len(offspring) < max_number_print:\n",
    "    print(offspring)\n",
    "else:\n",
    "    offspring_aux = np.random.choice(offspring, max_number_print, replace=False)\n",
    "    print(offspring_aux)\n",
    "\n",
    "population = offspring.copy()"
   ]
  },
  {
   "cell_type": "markdown",
   "metadata": {},
   "source": [
    "## Tercer Paso (Opcional): Muestra Estadísticas de la población en un determinado punto. \n",
    "\n",
    "Ejecuta la celda de abajo para poder ver las estadísticas y los porcentajes de los diferentes tipos de mariposas que encontramos en un partícular momento de la simulación. \n",
    "\n",
    "Te ánimo a comprobar por tí misma como, usando los valores por defecto de la simulación, comenzaremos teniendo una población de mariposas mayoritariamente blancas y como a lo largo de unas cuantas generaciones la población pasará a ser mayoritariamente negra. "
   ]
  },
  {
   "cell_type": "code",
   "execution_count": 7,
   "metadata": {},
   "outputs": [
    {
     "name": "stdout",
     "output_type": "stream",
     "text": [
      "Final percentages:\n",
      "Initial Population: 20\n",
      "Final Population: 10 (a 50.00% survived)\n",
      "Number of newborns: 40\n",
      "Newborns: White Butterflies: 75.00%\n",
      "Newborns: White-Grey Butterflies: 17.50%\n",
      "Newborns: Grey-White Butterflies: 7.50%\n",
      "Newborns: Black Butterflies: 0.00%\n"
     ]
    }
   ],
   "source": [
    "print(\"Final percentages:\")\n",
    "print(\"Initial Population: {}\" .format(len(final_population)))\n",
    "print(\"Final Population: %d (a %.2f%c survived)\" % (len(final_population) - death_counter, 100*(len(final_population) - death_counter)/len(final_population),'%'));\n",
    "print(\"Number of newborns: %d\" % len(offspring))\n",
    "print(\"Newborns: White Butterflies: %.2f%c\" % (100*len((np.where(offspring == 3))[0])/len(offspring), '%'))\n",
    "print(\"Newborns: White-Grey Butterflies: %.2f%c\" % (100*len((np.where(offspring == 2))[0])/len(offspring), '%'))\n",
    "print(\"Newborns: Grey-White Butterflies: %.2f%c\" % (100*len((np.where(offspring == 1))[0])/len(offspring), '%'))\n",
    "print(\"Newborns: Black Butterflies: %.2f%c\" % (100*len((np.where(offspring == 0))[0])/len(offspring), '%'))"
   ]
  },
  {
   "cell_type": "markdown",
   "metadata": {},
   "source": [
    "## Reflexión\n",
    "\n",
    "Esto que estamos presenciando, fue una de las inspiraciones más importantes de la historia de la ciencia. La que tuvo Darwin al concebir su teoría de la selección natural. Las mariposas de nuestra simulación no han pasado a tener alas de color negro PARA camuflarse de sus enemigos del mismo modo que una jirafa no tiene un cuello largo PARA alcanzar las copas de los arboles. Así es como se tendía a pensar antes de Darwin pero no es realmente exacto. Nuestras mariposas no son negras PARA evitar a los depredadores. Si os fijais, en nuestra simulación todo ha ocurrido de manera aleatoria. La evolución desde la perspectiva Darwiniana no funciona respecto a FINES. Es, en este sentido, CIEGA. Y es esta ceguera, la que permite que podamos simularla. \n",
    "\n",
    "Es necesario enfatizar, cuando creamos una simulación, estamos partiendo de un modelo de la realidad, es decir, estamos ignorando un montón de otras variables que podrían afectar al resultado en los cambios que se dan en una población. La selección natural no es la única fuerza que se encuentra detrás de los procesos evolutivos de las especies (existen los procesos de selección sexuales y los procesos llamados de co-evolución). Sin embargo, considero a las simulaciones una importante herramienta para poder comenzar a comprender las intuiciones básicas que son necesarias para entender los complejos cambios que pueden darse en una población. Ya sea humana o animal. Ya sea que esté relacionada con la supervivencia de una especie o con los ciclos ecónomicos por los que puede pasar la economía de un país. \n",
    "\n",
    "\n",
    "\n"
   ]
  }
 ],
 "metadata": {
  "interpreter": {
   "hash": "b89b5cfaba6639976dc87ff2fec6d58faec662063367e2c229c520fe71072417"
  },
  "kernelspec": {
   "display_name": "Python 3.10.4 64-bit",
   "language": "python",
   "name": "python3"
  },
  "language_info": {
   "codemirror_mode": {
    "name": "ipython",
    "version": 3
   },
   "file_extension": ".py",
   "mimetype": "text/x-python",
   "name": "python",
   "nbconvert_exporter": "python",
   "pygments_lexer": "ipython3",
   "version": "3.10.4"
  },
  "orig_nbformat": 4
 },
 "nbformat": 4,
 "nbformat_minor": 2
}
